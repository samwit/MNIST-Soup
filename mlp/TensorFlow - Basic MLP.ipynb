{
 "cells": [
  {
   "cell_type": "markdown",
   "metadata": {},
   "source": [
    "# TensorFlow - Basic MLP"
   ]
  },
  {
   "cell_type": "markdown",
   "metadata": {},
   "source": [
    "### Importing TensorFlow and checking the version"
   ]
  },
  {
   "cell_type": "code",
   "execution_count": 1,
   "metadata": {
    "collapsed": false
   },
   "outputs": [
    {
     "data": {
      "text/plain": [
       "'1.1.0'"
      ]
     },
     "execution_count": 1,
     "metadata": {},
     "output_type": "execute_result"
    }
   ],
   "source": [
    "import tensorflow as tf\n",
    "tf.__version__"
   ]
  },
  {
   "cell_type": "markdown",
   "metadata": {},
   "source": [
    "### Setting up the Graph"
   ]
  },
  {
   "cell_type": "code",
   "execution_count": 2,
   "metadata": {
    "collapsed": true
   },
   "outputs": [],
   "source": [
    "# The graph\n",
    "tf.reset_default_graph()\n",
    "graph = tf.get_default_graph()"
   ]
  },
  {
   "cell_type": "code",
   "execution_count": 3,
   "metadata": {
    "collapsed": true
   },
   "outputs": [],
   "source": [
    "# Reseting Tensorboard\n",
    "sess = tf.Session()\n",
    "#!rm -rf log_simple_graph\n",
    "#!rm -rf matrix_graph\n",
    "#!rm -rf log_simple_stat"
   ]
  },
  {
   "cell_type": "markdown",
   "metadata": {},
   "source": [
    "### Creating some example operations\n",
    "\n",
    "Simple Neuron"
   ]
  },
  {
   "cell_type": "code",
   "execution_count": 4,
   "metadata": {
    "collapsed": true
   },
   "outputs": [],
   "source": [
    "# sample input to make graph above\n",
    "input_a = tf.constant(4., dtype =tf.float32 ,name='a')\n",
    "input_b = tf.constant(3., dtype =tf.float32, name='b')\n",
    "\n",
    "#simple_addition operator\n",
    "c = tf.add(input_a,input_b,name='a_plus_b')\n",
    "\n",
    "#simple_mulitplication\n",
    "d = tf.multiply(input_a,input_b,name='a_mul_b')\n",
    "\n",
    "#\n",
    "e = tf.multiply(c,d,name='c_mul_d')"
   ]
  },
  {
   "cell_type": "code",
   "execution_count": 5,
   "metadata": {
    "collapsed": false
   },
   "outputs": [
    {
     "name": "stdout",
     "output_type": "stream",
     "text": [
      "Tensor(\"a_plus_b:0\", shape=(), dtype=float32)\n"
     ]
    }
   ],
   "source": [
    "# without a running a session we don't get any values\n",
    "print(c)"
   ]
  },
  {
   "cell_type": "markdown",
   "metadata": {},
   "source": [
    "Lets look inside these operation objects"
   ]
  },
  {
   "cell_type": "code",
   "execution_count": 6,
   "metadata": {
    "collapsed": false
   },
   "outputs": [
    {
     "name": "stdout",
     "output_type": "stream",
     "text": [
      "a   Const\n",
      "b   Const\n",
      "a_plus_b   Add\n",
      "a_mul_b   Mul\n",
      "c_mul_d   Mul\n"
     ]
    }
   ],
   "source": [
    "#Examining our operations\n",
    "operations = graph.get_operations()\n",
    "for operation in operations:\n",
    "    print(operation.name,\" \", operation.type)"
   ]
  },
  {
   "cell_type": "code",
   "execution_count": 7,
   "metadata": {
    "collapsed": false
   },
   "outputs": [
    {
     "data": {
      "text/plain": [
       "name: \"a_mul_b\"\n",
       "op: \"Mul\"\n",
       "input: \"a\"\n",
       "input: \"b\"\n",
       "attr {\n",
       "  key: \"T\"\n",
       "  value {\n",
       "    type: DT_FLOAT\n",
       "  }\n",
       "}"
      ]
     },
     "execution_count": 7,
     "metadata": {},
     "output_type": "execute_result"
    }
   ],
   "source": [
    "operations[-2].node_def"
   ]
  },
  {
   "cell_type": "code",
   "execution_count": 8,
   "metadata": {
    "collapsed": false
   },
   "outputs": [
    {
     "name": "stdout",
     "output_type": "stream",
     "text": [
      "7.0\n"
     ]
    }
   ],
   "source": [
    "### Runnning the Graph in a session\n",
    "print(sess.run(c))"
   ]
  },
  {
   "cell_type": "code",
   "execution_count": 9,
   "metadata": {
    "collapsed": false
   },
   "outputs": [
    {
     "data": {
      "text/plain": [
       "84.0"
      ]
     },
     "execution_count": 9,
     "metadata": {},
     "output_type": "execute_result"
    }
   ],
   "source": [
    "### Runnning the Graph in a session\n",
    "summary_writer = tf.summary.FileWriter('log_simple', sess.graph)\n",
    "sess.run(e)"
   ]
  },
  {
   "cell_type": "code",
   "execution_count": 10,
   "metadata": {
    "collapsed": false
   },
   "outputs": [
    {
     "name": "stdout",
     "output_type": "stream",
     "text": [
      "Starting TensorBoard b'41' on port 6006\n",
      "^C\n",
      "Traceback (most recent call last):\n",
      "  File \"/Users/samwitteveen/anaconda/envs/tf01/bin/tensorboard\", line 11, in <module>\n",
      "    sys.exit(main())\n",
      "  File \"/Users/samwitteveen/anaconda/envs/tf01/lib/python3.5/site-packages/tensorflow/tensorboard/tensorboard.py\", line 151, in main\n",
      "    tb_server.serve_forever()\n",
      "  File \"/Users/samwitteveen/anaconda/envs/tf01/lib/python3.5/socketserver.py\", line 232, in serve_forever\n",
      "    ready = selector.select(poll_interval)\n",
      "  File \"/Users/samwitteveen/anaconda/envs/tf01/lib/python3.5/selectors.py\", line 376, in select\n",
      "    fd_event_list = self._poll.poll(timeout)\n",
      "KeyboardInterrupt\n"
     ]
    }
   ],
   "source": [
    "!tensorboard --logdir=log_simple"
   ]
  },
  {
   "cell_type": "code",
   "execution_count": 12,
   "metadata": {
    "collapsed": true
   },
   "outputs": [],
   "source": [
    "# The graph\n",
    "tf.reset_default_graph()\n",
    "graph = tf.get_default_graph()\n",
    "sess = tf.Session()\n",
    "\n",
    "!rm -rf matrix_graph\n",
    "!rm -rf log_simple\n",
    "\n",
    "\n",
    "#tensor_a = tf.random_normal(shape=[3,3], mean=0.0,stddev=1.0, dtype=tf.float32,name='tensor_a')\n",
    "tensor_a = tf.constant([[4,5,6],[1,3,5],[3,1,3]],shape=[3,3], dtype =tf.float32 ,name='tensor_b')\n",
    "tensor_b = tf.constant([[4.,3,5],[12,3,45],[63,41,3]],shape=[3,3], dtype =tf.float32 ,name='tensor_b')\n",
    "\n",
    "tensor_matrix_mul = tf.matmul(tensor_a,tensor_b)"
   ]
  },
  {
   "cell_type": "code",
   "execution_count": 13,
   "metadata": {
    "collapsed": false
   },
   "outputs": [
    {
     "data": {
      "text/plain": [
       "TensorShape([Dimension(3), Dimension(3)])"
      ]
     },
     "execution_count": 13,
     "metadata": {},
     "output_type": "execute_result"
    }
   ],
   "source": [
    "# getting tensor shape  \n",
    "tensor_a.get_shape()"
   ]
  },
  {
   "cell_type": "code",
   "execution_count": 14,
   "metadata": {
    "collapsed": false
   },
   "outputs": [
    {
     "name": "stdout",
     "output_type": "stream",
     "text": [
      "[[ 4.  5.  6.]\n",
      " [ 1.  3.  5.]\n",
      " [ 3.  1.  3.]]\n"
     ]
    }
   ],
   "source": [
    "### Runnning the Graph in a session\n",
    "print(sess.run(tensor_a))"
   ]
  },
  {
   "cell_type": "code",
   "execution_count": 15,
   "metadata": {
    "collapsed": false
   },
   "outputs": [
    {
     "name": "stdout",
     "output_type": "stream",
     "text": [
      "[[  4.   3.   5.]\n",
      " [ 12.   3.  45.]\n",
      " [ 63.  41.   3.]]\n"
     ]
    }
   ],
   "source": [
    "#sess = tf.Session()\n",
    "print(sess.run(tensor_b))"
   ]
  },
  {
   "cell_type": "markdown",
   "metadata": {},
   "source": [
    "$$ \n",
    "\\begin{bmatrix}\n",
    "    4 &  5 &  6 \\\\\n",
    "    1  & 3 &  5 \\\\\n",
    "    3  & 1 &  3 \\\\\n",
    "\\end{bmatrix}\n",
    "•\n",
    "\\begin{bmatrix}\n",
    "    4 &  3 &  5 \\\\\n",
    "    12 &  3 &  45 \\\\\n",
    "    63 &  41 &  3 \\\\\n",
    "\\end{bmatrix}\n",
    "=\n",
    "\\begin{bmatrix}\n",
    "    454 &  273 &  263 \\\\\n",
    "    355 &  217 &  155 \\\\\n",
    "    213 & 135 &  69 \\\\\n",
    "\\end{bmatrix}\n",
    "$$"
   ]
  },
  {
   "cell_type": "code",
   "execution_count": 16,
   "metadata": {
    "collapsed": false
   },
   "outputs": [
    {
     "name": "stdout",
     "output_type": "stream",
     "text": [
      "[[ 454.  273.  263.]\n",
      " [ 355.  217.  155.]\n",
      " [ 213.  135.   69.]]\n"
     ]
    }
   ],
   "source": [
    "print(sess.run(tensor_matrix_mul))"
   ]
  },
  {
   "cell_type": "code",
   "execution_count": 17,
   "metadata": {
    "collapsed": false
   },
   "outputs": [
    {
     "name": "stdout",
     "output_type": "stream",
     "text": [
      "Starting TensorBoard b'41' on port 6006\n",
      "^C\n",
      "Traceback (most recent call last):\n",
      "  File \"/Users/samwitteveen/anaconda/envs/tf01/bin/tensorboard\", line 11, in <module>\n",
      "    sys.exit(main())\n",
      "  File \"/Users/samwitteveen/anaconda/envs/tf01/lib/python3.5/site-packages/tensorflow/tensorboard/tensorboard.py\", line 151, in main\n",
      "    tb_server.serve_forever()\n",
      "  File \"/Users/samwitteveen/anaconda/envs/tf01/lib/python3.5/socketserver.py\", line 232, in serve_forever\n",
      "    ready = selector.select(poll_interval)\n",
      "  File \"/Users/samwitteveen/anaconda/envs/tf01/lib/python3.5/selectors.py\", line 376, in select\n",
      "    fd_event_list = self._poll.poll(timeout)\n",
      "KeyboardInterrupt\n"
     ]
    }
   ],
   "source": [
    "### Runnning the Graph on tensor board\n",
    "summary_writer = tf.summary.FileWriter('matrix_graph', sess.graph)\n",
    "!tensorboard --logdir=matrix_graph"
   ]
  },
  {
   "cell_type": "markdown",
   "metadata": {},
   "source": [
    "## Building your first network"
   ]
  },
  {
   "cell_type": "code",
   "execution_count": 2,
   "metadata": {
    "collapsed": false
   },
   "outputs": [
    {
     "data": {
      "text/plain": [
       "'1.1.0'"
      ]
     },
     "execution_count": 2,
     "metadata": {},
     "output_type": "execute_result"
    }
   ],
   "source": [
    "import tensorflow as tf\n",
    "tf.__version__"
   ]
  },
  {
   "cell_type": "markdown",
   "metadata": {},
   "source": [
    "## MNIST Model with Pure TensorFlow"
   ]
  },
  {
   "cell_type": "code",
   "execution_count": 19,
   "metadata": {
    "collapsed": true
   },
   "outputs": [],
   "source": [
    "import matplotlib.pyplot as plt\n",
    "%matplotlib inline\n",
    "import numpy as np"
   ]
  },
  {
   "cell_type": "code",
   "execution_count": 20,
   "metadata": {
    "collapsed": false
   },
   "outputs": [
    {
     "name": "stdout",
     "output_type": "stream",
     "text": [
      "Extracting /tmp/data/train-images-idx3-ubyte.gz\n",
      "Extracting /tmp/data/train-labels-idx1-ubyte.gz\n",
      "Extracting /tmp/data/t10k-images-idx3-ubyte.gz\n",
      "Extracting /tmp/data/t10k-labels-idx1-ubyte.gz\n"
     ]
    }
   ],
   "source": [
    "# Import MNIST from TF Examples\n",
    "from tensorflow.examples.tutorials.mnist import input_data\n",
    "mnist = input_data.read_data_sets(\"/tmp/data/\", one_hot=True)\n",
    "\n",
    "# Load data\n",
    "X_train = mnist.train.images\n",
    "Y_train = mnist.train.labels\n",
    "X_test = mnist.test.images\n",
    "Y_test = mnist.test.labels"
   ]
  },
  {
   "cell_type": "code",
   "execution_count": 21,
   "metadata": {
    "collapsed": false
   },
   "outputs": [
    {
     "name": "stdout",
     "output_type": "stream",
     "text": [
      "(50000, 784)\n",
      "(50000, 10)\n",
      "(10000, 784)\n",
      "(10000, 10)\n"
     ]
    }
   ],
   "source": [
    "X_train = X_train[:50000]\n",
    "Y_train = Y_train[:50000]\n",
    "print(X_train.shape)\n",
    "print(Y_train.shape)\n",
    "print(X_test.shape)\n",
    "print(Y_test.shape)"
   ]
  },
  {
   "cell_type": "markdown",
   "metadata": {},
   "source": [
    "### MNIST Image Tensor X_train\n",
    "\n",
    "<img src=\"./diagram4f.png\" style=\"width:550px;\">\n",
    "<img src=\"./diagram6d.png\" style=\"width:550px;\">"
   ]
  },
  {
   "cell_type": "code",
   "execution_count": 23,
   "metadata": {
    "collapsed": false
   },
   "outputs": [
    {
     "data": {
      "image/png": "[encoded data removed]",
      "text/plain": [
       "<matplotlib.figure.Figure at 0x119a89d30>"
      ]
     },
     "metadata": {},
     "output_type": "display_data"
    },
    {
     "data": {
      "image/png": "[encoded data removed]",
      "text/plain": [
       "<matplotlib.figure.Figure at 0x125abb630>"
      ]
     },
     "metadata": {},
     "output_type": "display_data"
    },
    {
     "data": {
      "image/png": "[encoded data removed]",
      "text/plain": [
       "<matplotlib.figure.Figure at 0x125abb240>"
      ]
     },
     "metadata": {},
     "output_type": "display_data"
    }
   ],
   "source": [
    "# Method for displaying the number as a picture\n",
    "\n",
    "def show_digit(index):\n",
    "    label = Y_train[index].argmax(axis=0)\n",
    "    # Reshape 784 array into 28x28 image\n",
    "    image = X_train[index].reshape([28,28])\n",
    "    fig, axes = plt.subplots(1, )\n",
    "    fig.subplots_adjust(hspace=0.5, wspace=0.5)\n",
    "    plt.title('Training data, index: %d,  Label: %d' % (index, label))\n",
    "    plt.imshow(image, cmap='gray_r')\n",
    "    plt.show()\n",
    "    \n",
    "def show_predicted_digit(image, pred, label):\n",
    "    # Reshape 784 array into 28x28 image\n",
    "    image = image.reshape([28,28])\n",
    "    plt.title('Original Image, Pred: %d,  True Label: %d' %(pred, label))\n",
    "    plt.imshow(image, cmap='gray_r')\n",
    "    plt.show()\n",
    "    \n",
    "# Display the first (index 0) training image\n",
    "show_digit(1)\n",
    "show_digit(2)\n",
    "show_digit(3)"
   ]
  },
  {
   "cell_type": "markdown",
   "metadata": {},
   "source": [
    "#### Batching allows TF to streamline a cimputation for the processors eg. GPU"
   ]
  },
  {
   "cell_type": "code",
   "execution_count": 24,
   "metadata": {
    "collapsed": true
   },
   "outputs": [],
   "source": [
    "# Create a batch of 64 images and their labels\n",
    "batch_X, batch_Y = mnist.train.next_batch(64)"
   ]
  },
  {
   "cell_type": "code",
   "execution_count": 25,
   "metadata": {
    "collapsed": false
   },
   "outputs": [
    {
     "data": {
      "text/plain": [
       "(64, 784)"
      ]
     },
     "execution_count": 25,
     "metadata": {},
     "output_type": "execute_result"
    }
   ],
   "source": [
    "batch_X.shape"
   ]
  },
  {
   "cell_type": "markdown",
   "metadata": {},
   "source": [
    "<img src=\"./diagram3c.gif\" style=\"width:750px;\">"
   ]
  },
  {
   "cell_type": "markdown",
   "metadata": {},
   "source": [
    "### Setting up our Network Hyper Parameters"
   ]
  },
  {
   "cell_type": "code",
   "execution_count": 49,
   "metadata": {
    "collapsed": true
   },
   "outputs": [],
   "source": [
    "# Training Parameters for basic MNIST\n",
    "learning_rate = 0.1 \n",
    "training_epochs = 2\n",
    "batch_size = 100\n",
    "display_step = 1  # for how often to print out our results\n",
    "model_path = \"./talk_save/model1.ckpt\" #\"./talk_save/model.ckpt\"\n",
    "alt_model_path = \"./talk_save/model.ckpt\" #\"./talk_save/model.ckpt\"\n",
    "\n",
    "\n",
    "# Network Parameters\n",
    "n_input = 784 # MNIST data input (img shape: 28*28 flattened to be 784)\n",
    "n_hidden_1 = 384 # 1st layer number of neurons\n",
    "n_hidden_2 = 100 # 2nd layer number of neurons\n",
    "n_classes = 10 # MNIST classes for prediction(digits 0-9 )"
   ]
  },
  {
   "cell_type": "code",
   "execution_count": 50,
   "metadata": {
    "collapsed": true
   },
   "outputs": [],
   "source": [
    "# The graph\n",
    "tf.reset_default_graph()\n",
    "#!rm -rf log_simple_graph\n",
    "!rm -rf matrix_graph\n",
    "#!rm -rf log_simple_graph/3\n",
    "\n",
    "\n",
    "# tf Graph input\n",
    "with tf.name_scope('Inputs') as scope:\n",
    "    x = tf.placeholder(\"float\", [None, n_input],name='x_input')\n",
    "    y = tf.placeholder(\"float\", [None, n_classes],name='labels')"
   ]
  },
  {
   "cell_type": "code",
   "execution_count": 51,
   "metadata": {
    "collapsed": true
   },
   "outputs": [],
   "source": [
    "# Create model\n",
    "def multilayer_perceptron(x):\n",
    "    \n",
    "    with tf.name_scope('hidden_01') as scope:\n",
    "        # Hidden layer 01 with RELU activation\n",
    "        \n",
    "        #weights and bias tensor\n",
    "        h1weight = tf.Variable(tf.truncated_normal([n_input, n_hidden_1],stddev=0.1),name='h1_weights')\n",
    "        h1bias = tf.Variable(tf.truncated_normal([n_hidden_1],stddev=0.1),name='b1_bias')\n",
    "        \n",
    "        #hidden layer 01 Ops\n",
    "        layer_1 = tf.add(tf.matmul(x, h1weight), h1bias,name='Layer1_matmul')  # adding (x•w1) + bias1)\n",
    "        layer_1 = tf.nn.relu(layer_1, name='Layer1_Relu') #activation Relu passes anything above 0 and blocks negative\n",
    "        \n",
    "        #tensorboard histograms for layer 01\n",
    "        tf.summary.histogram('weights_h1',h1weight)\n",
    "        tf.summary.histogram('bias_h1',h1bias)\n",
    "        \n",
    "    with tf.name_scope('hidden_02') as scope:\n",
    "        # Hidden layer 02 with RELU activation\n",
    "        h2weights = tf.Variable(tf.truncated_normal([n_hidden_1, n_hidden_2],stddev=0.1),name='h2_weights')\n",
    "        h2bias = tf.Variable(tf.truncated_normal([n_hidden_2],stddev=0.1),name='b2_bias')\n",
    "        \n",
    "        layer_2 = tf.add(tf.matmul(layer_1, h2weights), h2bias,name='Layer2_add')\n",
    "        layer_2 = tf.nn.relu(layer_2, name='Layer2_Relu')\n",
    "        #tensorboard histograms\n",
    "        tf.summary.histogram('weights_h2',h2weights)\n",
    "        tf.summary.histogram('bias_h2',h2bias)\n",
    "        \n",
    "    with tf.name_scope('output_layer') as scope:\n",
    "        # Logits layer with linear activation\n",
    "        output_weights = tf.Variable(tf.truncated_normal([n_hidden_2, n_classes],stddev=0.1),name='output_weights')\n",
    "        output_bias = tf.Variable(tf.truncated_normal([n_classes],stddev=0.1),name='out_bias')\n",
    "        \n",
    "        logits_layer = tf.add(tf.matmul(layer_2, output_weights), output_bias,name='logits')\n",
    "\n",
    "    return logits_layer"
   ]
  },
  {
   "cell_type": "code",
   "execution_count": 52,
   "metadata": {
    "collapsed": true
   },
   "outputs": [],
   "source": [
    "pred = multilayer_perceptron(x)"
   ]
  },
  {
   "cell_type": "code",
   "execution_count": 53,
   "metadata": {
    "collapsed": true
   },
   "outputs": [],
   "source": [
    "# Define loss and optimizer\n",
    "with tf.name_scope('cross_entropy'):\n",
    "    loss = tf.reduce_mean(tf.nn.softmax_cross_entropy_with_logits(labels= y, logits=pred ))   #compute the error against the correct results\n",
    "\n",
    "with tf.name_scope('train'):    \n",
    "    optimizer = tf.train.AdamOptimizer(learning_rate=learning_rate).minimize(loss) # optimizer makes changes to the weights and bias to reduce loss\n",
    "    #optimizer = tf.train.GradientDescentOptimizer(learning_rate=learning_rate).minimize(loss)\n",
    "\n",
    "with tf.name_scope('accuracy'):\n",
    "    correct_prediction = tf.equal(tf.argmax(pred,1),tf.argmax(y,1))\n",
    "    accuracy = tf.reduce_mean(tf.cast(correct_prediction,tf.float32))\n",
    "\n",
    "# Initializing the variables\n",
    "init = tf.global_variables_initializer()"
   ]
  },
  {
   "cell_type": "code",
   "execution_count": 54,
   "metadata": {
    "collapsed": true
   },
   "outputs": [],
   "source": [
    "# 'Saver' op to save and restore all the variables\n",
    "saver = tf.train.Saver()"
   ]
  },
  {
   "cell_type": "code",
   "execution_count": 55,
   "metadata": {
    "collapsed": true
   },
   "outputs": [],
   "source": [
    "### Runnning the Graph on tensor board\n",
    "file_writer = tf.summary.FileWriter('log_simple_graph/9', sess.graph)\n",
    "\n",
    "tf.summary.scalar(\"accuracy\", accuracy)\n",
    "tf.summary.scalar(\"loss\", loss)\n",
    "\n",
    "summary_op = tf.summary.merge_all()"
   ]
  },
  {
   "cell_type": "markdown",
   "metadata": {},
   "source": [
    "### Train the Network by running the Session\n"
   ]
  },
  {
   "cell_type": "code",
   "execution_count": 56,
   "metadata": {
    "collapsed": false
   },
   "outputs": [
    {
     "name": "stdout",
     "output_type": "stream",
     "text": [
      "Epoch: 0001 Loss = 1.477629425\n",
      "Epoch: 0002 Loss = 0.731560423\n",
      "Optimization Finished!\n",
      "Model saved to: ./talk_save/model1.ckpt\n",
      "CPU times: user 53.8 s, sys: 2.27 s, total: 56.1 s\n",
      "Wall time: 24.1 s\n"
     ]
    }
   ],
   "source": [
    "%%time\n",
    "\n",
    "# Launch the graph\n",
    "with tf.Session() as sess:\n",
    "    sess.run(init)\n",
    "\n",
    "    # Training cycle\n",
    "    for epoch in range(training_epochs):\n",
    "        avg_cost = 0.\n",
    "        total_batch = int(mnist.train.num_examples/batch_size)\n",
    "        \n",
    "        # Loop over all batches\n",
    "        for i in range(total_batch):\n",
    "            batch_x, batch_y = mnist.train.next_batch(batch_size)\n",
    "            # Run optimization op (backprop) and cost op (to get loss value)\n",
    "            _, c,summary = sess.run([optimizer, loss,summary_op], feed_dict={x: batch_x,\n",
    "                                                          y: batch_y})\n",
    "            # Compute average loss\n",
    "            avg_cost += c / total_batch\n",
    "            #write to file TensorBoard variables\n",
    "            file_writer.add_summary(summary, epoch  + i)\n",
    "        # Display logs per epoch step\n",
    "        if epoch % display_step == 0:\n",
    "            print (\"Epoch:\", '%04d' % (epoch+1), \"Loss =\", \\\n",
    "                \"{:.9f}\".format(avg_cost))\n",
    "    print (\"Optimization Finished!\")\n",
    "    \n",
    "\n",
    "    # Save model weights to disk\n",
    "    save_path = saver.save(sess, model_path)\n",
    "    print (\"Model saved to: %s\" % save_path)\n",
    " "
   ]
  },
  {
   "cell_type": "markdown",
   "metadata": {},
   "source": [
    "### Testing against our Test Data"
   ]
  },
  {
   "cell_type": "code",
   "execution_count": 57,
   "metadata": {
    "collapsed": false
   },
   "outputs": [
    {
     "name": "stdout",
     "output_type": "stream",
     "text": [
      "Model restored from file: ./talk_save/model1.ckpt\n",
      "Accuracy: 0.741\n"
     ]
    }
   ],
   "source": [
    "with tf.Session() as sess:\n",
    "    sess.run(init)\n",
    "    \n",
    "    # Restore model weights from previously saved model\n",
    "    load_path = saver.restore(sess, model_path)\n",
    "    print (\"Model restored from file: %s\" % save_path)\n",
    "    \n",
    "    # Test model\n",
    "    correct_prediction = tf.equal(tf.argmax(pred, 1), tf.argmax(y, 1))\n",
    "    # Calculate accuracy\n",
    "    accuracy = tf.reduce_mean(tf.cast(correct_prediction, \"float\"))\n",
    "    print (\"Accuracy:\", accuracy.eval({x: mnist.test.images, y: mnist.test.labels}))"
   ]
  },
  {
   "cell_type": "code",
   "execution_count": 58,
   "metadata": {
    "collapsed": false
   },
   "outputs": [
    {
     "name": "stdout",
     "output_type": "stream",
     "text": [
      "Starting TensorBoard b'41' on port 6006\n",
      "WARNING:tensorflow:Found more than one graph event per run, or there was a metagraph containing a graph_def, as well as one or more graph events.  Overwriting the graph with the newest event.\n",
      "WARNING:tensorflow:Found more than one metagraph event per run. Overwriting the metagraph with the newest event.\n",
      "WARNING:tensorflow:Found more than one graph event per run, or there was a metagraph containing a graph_def, as well as one or more graph events.  Overwriting the graph with the newest event.\n",
      "WARNING:tensorflow:Found more than one metagraph event per run. Overwriting the metagraph with the newest event.\n",
      "WARNING:tensorflow:Found more than one graph event per run, or there was a metagraph containing a graph_def, as well as one or more graph events.  Overwriting the graph with the newest event.\n",
      "WARNING:tensorflow:Found more than one metagraph event per run. Overwriting the metagraph with the newest event.\n",
      "^C\n",
      "Traceback (most recent call last):\n",
      "  File \"/Users/samwitteveen/anaconda/envs/tf01/bin/tensorboard\", line 11, in <module>\n",
      "    sys.exit(main())\n",
      "  File \"/Users/samwitteveen/anaconda/envs/tf01/lib/python3.5/site-packages/tensorflow/tensorboard/tensorboard.py\", line 151, in main\n",
      "    tb_server.serve_forever()\n",
      "  File \"/Users/samwitteveen/anaconda/envs/tf01/lib/python3.5/socketserver.py\", line 232, in serve_forever\n",
      "    ready = selector.select(poll_interval)\n",
      "  File \"/Users/samwitteveen/anaconda/envs/tf01/lib/python3.5/selectors.py\", line 376, in select\n",
      "    fd_event_list = self._poll.poll(timeout)\n",
      "KeyboardInterrupt\n"
     ]
    }
   ],
   "source": [
    "!tensorboard --logdir=log_simple_graph"
   ]
  },
  {
   "cell_type": "code",
   "execution_count": 39,
   "metadata": {
    "collapsed": false
   },
   "outputs": [
    {
     "data": {
      "image/png": "[encoded data removed]",
      "text/plain": [
       "<matplotlib.figure.Figure at 0x125b6d2b0>"
      ]
     },
     "metadata": {},
     "output_type": "display_data"
    }
   ],
   "source": [
    "def predict_image_from_test(imageNumber):\n",
    "    imvalue = X_test[imageNumber]\n",
    "    trueValue = np.argmax(Y_test[imageNumber],0)\n",
    "    with tf.Session() as sess:\n",
    "        sess.run(init)\n",
    "        # Restore model weights from previously saved model\n",
    "        load_path = saver.restore(sess, model_path)\n",
    "        # Predict model 1 image batch size = 1\n",
    "        vector = sess.run(pred, feed_dict={x: [imvalue]})\n",
    "        #print(vector[0])\n",
    "        pred_label = sess.run(tf.argmax(vector[0],0))\n",
    "        #show image and result\n",
    "        show_predicted_digit(imvalue, pred_label, trueValue)\n",
    "        \n",
    "predict_image_from_test(34)"
   ]
  },
  {
   "cell_type": "markdown",
   "metadata": {},
   "source": [
    "## Tensor Board\n",
    "\n",
    "#### clear the graph so you can start from scratch\n",
    "\n",
    "tf.reset_default_graph()  \n",
    "sess = tf.Session()\n",
    "\n",
    "#### create a file writer\n",
    "\n",
    "file_writer = tf.summary.FileWriter('log_simple_graph/2', sess.graph)\n",
    "\n",
    "#### save a summary of a continuous scalar value \n",
    "\n",
    "tf.summary.scalar(\"accuracy\", accuracy)  \n",
    "tf.summary.scalar(\"loss\", loss)  \n",
    "\n",
    "#### save a summary of a continuous value as histogram\n",
    "\n",
    "tf.summary.histogram('weights_h1',h1weight)  \n",
    "tf.summary.histogram('bias_h1',h1bias)  \n",
    "\n",
    "#### merge the summaries to one model\n",
    "\n",
    "summary_op = tf.summary.merge_all()\n",
    "\n",
    "#### logging the info when training\n",
    "\n",
    "file_writer.add_summary(summary, epoch  + batch)  \n",
    "summary = sess.run([optimizer, loss,summary_op], feed_dict={x: batch_x, y: batch_y})\n",
    "\n",
    "#### Running the TensorBoard \n",
    "!tensorboard --logdir=log_simple_graph  \n",
    "(!) is for jupyter to access the command line  \n",
    "(log_simple_graph) is the folder with the graph in it"
   ]
  },
  {
   "cell_type": "code",
   "execution_count": null,
   "metadata": {
    "collapsed": true
   },
   "outputs": [],
   "source": []
  },
  {
   "cell_type": "code",
   "execution_count": null,
   "metadata": {
    "collapsed": true
   },
   "outputs": [],
   "source": []
  }
 ],
 "metadata": {
  "anaconda-cloud": {},
  "kernelspec": {
   "display_name": "Python 3",
   "language": "python",
   "name": "python3"
  },
  "language_info": {
   "codemirror_mode": {
    "name": "ipython",
    "version": 3
   },
   "file_extension": ".py",
   "mimetype": "text/x-python",
   "name": "python",
   "nbconvert_exporter": "python",
   "pygments_lexer": "ipython3",
   "version": "3.5.2"
  }
 },
 "nbformat": 4,
 "nbformat_minor": 1
}
