{
 "cells": [
  {
   "cell_type": "markdown",
   "metadata": {},
   "source": [
    "# Pytorch - Basic MLP"
   ]
  },
  {
   "cell_type": "code",
   "execution_count": 1,
   "metadata": {
    "collapsed": true
   },
   "outputs": [],
   "source": [
    "import torch\n",
    "import torch.nn as nn\n",
    "import torch.nn.functional as F\n",
    "import torch.optim as optim\n",
    "from torchvision import datasets, transforms\n",
    "from torch.autograd import Variable"
   ]
  },
  {
   "cell_type": "code",
   "execution_count": 13,
   "metadata": {
    "collapsed": false
   },
   "outputs": [],
   "source": [
    "# Training settings\n",
    "batch_size=64\n",
    "test_batch_size=1000\n",
    "epochs=5\n",
    "lr=0.01\n",
    "momentum=0.5\n",
    "no_cuda=False,\n",
    "seed=42 #help='random seed (default: 1)')\n",
    "log_interval=100 #how many batches to wait before logging training status\n",
    "\n",
    "cuda = not no_cuda and torch.cuda.is_available()"
   ]
  },
  {
   "cell_type": "code",
   "execution_count": 14,
   "metadata": {
    "collapsed": false
   },
   "outputs": [],
   "source": [
    "torch.manual_seed(seed)\n",
    "if cuda:\n",
    "    torch.cuda.manual_seed(seed)"
   ]
  },
  {
   "cell_type": "markdown",
   "metadata": {},
   "source": [
    "Params for if using cuda"
   ]
  },
  {
   "cell_type": "code",
   "execution_count": 15,
   "metadata": {
    "collapsed": false
   },
   "outputs": [],
   "source": [
    "params = {'num_workers': 1, 'pin_memory': True} if cuda else {}"
   ]
  },
  {
   "cell_type": "markdown",
   "metadata": {},
   "source": [
    "#### Loading MNIST data and normalizing it"
   ]
  },
  {
   "cell_type": "code",
   "execution_count": 16,
   "metadata": {
    "collapsed": false
   },
   "outputs": [],
   "source": [
    "train_loader = torch.utils.data.DataLoader(\n",
    "    datasets.MNIST('../data', train=True, download=True,\n",
    "                   transform=transforms.Compose([\n",
    "                       transforms.ToTensor(),\n",
    "                       transforms.Normalize((0.1307,), (0.3081,))\n",
    "                   ])),\n",
    "    batch_size=batch_size, shuffle=True, **params)\n",
    "test_loader = torch.utils.data.DataLoader(\n",
    "    datasets.MNIST('../data', train=False, transform=transforms.Compose([\n",
    "                       transforms.ToTensor(),\n",
    "                       transforms.Normalize((0.1307,), (0.3081,))\n",
    "                   ])),\n",
    "    batch_size=batch_size, shuffle=True, **params)"
   ]
  },
  {
   "cell_type": "markdown",
   "metadata": {},
   "source": [
    "#### Creating the model\n",
    "\n",
    "nn.Module = Base class for all neural network modules.\n",
    "\n",
    "2d conv = nn.Conv2d(filtersize_input,filters_out, kernel_size)   #padding??  \n",
    "fully connected = nn.Linear(inputs,outputs) #Applies a linear transformation to the incoming data: y=Ax+b  Linear because no activation ala relu  \n",
    "dropout = nn.Dropout(p=0.5, inplace=False)  "
   ]
  },
  {
   "cell_type": "markdown",
   "metadata": {},
   "source": []
  },
  {
   "cell_type": "code",
   "execution_count": 23,
   "metadata": {
    "collapsed": false
   },
   "outputs": [],
   "source": [
    "class Net(nn.Module):\n",
    "    def __init__(self):\n",
    "        super(Net, self).__init__()\n",
    "        self.fc1 = nn.Linear(784, 384)\n",
    "        self.fc2 = nn.Linear(384, 100)\n",
    "        self.fc3 = nn.Linear(100, 10)\n",
    "\n",
    "    def forward(self, x):\n",
    "        x = x.view(-1, 784) #reshaping the input to flatten\n",
    "        x = F.relu(self.fc1(x)) # wraping the relu in here\n",
    "        x = F.relu(self.fc2(x))\n",
    "        x = F.relu(self.fc3(x))\n",
    "        #x = F.dropout(x, training=self.training)\n",
    "        #x = self.fc2(x)\n",
    "        return F.log_softmax(x)\n",
    "\n",
    "model = Net()"
   ]
  },
  {
   "cell_type": "code",
   "execution_count": 24,
   "metadata": {
    "collapsed": true
   },
   "outputs": [],
   "source": [
    "optimizer = optim.SGD(model.parameters(), lr=lr, momentum=momentum)"
   ]
  },
  {
   "cell_type": "code",
   "execution_count": 25,
   "metadata": {
    "collapsed": true
   },
   "outputs": [],
   "source": [
    "def train(epoch):\n",
    "    model.train()\n",
    "    for batch_idx, (data, target) in enumerate(train_loader):\n",
    "        if cuda:\n",
    "            data, target = data.cuda(), target.cuda()\n",
    "        data, target = Variable(data), Variable(target)\n",
    "        optimizer.zero_grad()\n",
    "        output = model(data)\n",
    "        loss = F.nll_loss(output, target)\n",
    "        loss.backward()\n",
    "        optimizer.step()\n",
    "        if batch_idx % log_interval == 0:\n",
    "            print('Train Epoch: {} [{}/{} ({:.0f}%)]\\tLoss: {:.6f}'.format(\n",
    "                epoch, batch_idx * len(data), len(train_loader.dataset),\n",
    "                100. * batch_idx / len(train_loader), loss.data[0]))"
   ]
  },
  {
   "cell_type": "code",
   "execution_count": 26,
   "metadata": {
    "collapsed": true
   },
   "outputs": [],
   "source": [
    "def test(epoch):\n",
    "    model.eval()\n",
    "    test_loss = 0\n",
    "    correct = 0\n",
    "    for data, target in test_loader:\n",
    "        if cuda:\n",
    "            data, target = data.cuda(), target.cuda()\n",
    "        data, target = Variable(data, volatile=True), Variable(target)\n",
    "        output = model(data)\n",
    "        test_loss += F.nll_loss(output, target).data[0]\n",
    "        pred = output.data.max(1)[1] # get the index of the max log-probability\n",
    "        correct += pred.eq(target.data).cpu().sum()\n",
    "\n",
    "    test_loss = test_loss\n",
    "    test_loss /= len(test_loader) # loss function already averages over batch size\n",
    "    print('\\nTest set: Average loss: {:.4f}, Accuracy: {}/{} ({:.2f}%)\\n'.format(\n",
    "        test_loss, correct, len(test_loader.dataset),\n",
    "        100. * correct / len(test_loader.dataset)))\n",
    "\n"
   ]
  },
  {
   "cell_type": "code",
   "execution_count": 27,
   "metadata": {
    "collapsed": false
   },
   "outputs": [
    {
     "name": "stdout",
     "output_type": "stream",
     "text": [
      "Train Epoch: 1 [0/60000 (0%)]\tLoss: 2.289855\n",
      "Train Epoch: 1 [6400/60000 (11%)]\tLoss: 1.700609\n",
      "Train Epoch: 1 [12800/60000 (21%)]\tLoss: 1.205999\n",
      "Train Epoch: 1 [19200/60000 (32%)]\tLoss: 1.023502\n",
      "Train Epoch: 1 [25600/60000 (43%)]\tLoss: 0.832346\n",
      "Train Epoch: 1 [32000/60000 (53%)]\tLoss: 0.773498\n",
      "Train Epoch: 1 [38400/60000 (64%)]\tLoss: 0.753542\n",
      "Train Epoch: 1 [44800/60000 (75%)]\tLoss: 1.045093\n",
      "Train Epoch: 1 [51200/60000 (85%)]\tLoss: 0.933533\n",
      "Train Epoch: 1 [57600/60000 (96%)]\tLoss: 0.810670\n",
      "\n",
      "Test set: Average loss: 0.7279, Accuracy: 7430/10000 (74.30%)\n",
      "\n",
      "Train Epoch: 2 [0/60000 (0%)]\tLoss: 0.954258\n",
      "Train Epoch: 2 [6400/60000 (11%)]\tLoss: 0.568273\n",
      "Train Epoch: 2 [12800/60000 (21%)]\tLoss: 0.916573\n",
      "Train Epoch: 2 [19200/60000 (32%)]\tLoss: 0.783598\n",
      "Train Epoch: 2 [25600/60000 (43%)]\tLoss: 0.824423\n",
      "Train Epoch: 2 [32000/60000 (53%)]\tLoss: 0.516203\n",
      "Train Epoch: 2 [38400/60000 (64%)]\tLoss: 0.554537\n",
      "Train Epoch: 2 [44800/60000 (75%)]\tLoss: 0.675217\n",
      "Train Epoch: 2 [51200/60000 (85%)]\tLoss: 0.661387\n",
      "Train Epoch: 2 [57600/60000 (96%)]\tLoss: 0.461490\n",
      "\n",
      "Test set: Average loss: 0.6503, Accuracy: 7585/10000 (75.85%)\n",
      "\n",
      "Train Epoch: 3 [0/60000 (0%)]\tLoss: 0.746886\n",
      "Train Epoch: 3 [6400/60000 (11%)]\tLoss: 0.607675\n",
      "Train Epoch: 3 [12800/60000 (21%)]\tLoss: 0.679416\n",
      "Train Epoch: 3 [19200/60000 (32%)]\tLoss: 0.534367\n",
      "Train Epoch: 3 [25600/60000 (43%)]\tLoss: 0.601536\n",
      "Train Epoch: 3 [32000/60000 (53%)]\tLoss: 0.728601\n",
      "Train Epoch: 3 [38400/60000 (64%)]\tLoss: 0.774746\n",
      "Train Epoch: 3 [44800/60000 (75%)]\tLoss: 0.745501\n",
      "Train Epoch: 3 [51200/60000 (85%)]\tLoss: 0.467553\n",
      "Train Epoch: 3 [57600/60000 (96%)]\tLoss: 0.416103\n",
      "\n",
      "Test set: Average loss: 0.4141, Accuracy: 8560/10000 (85.60%)\n",
      "\n",
      "Train Epoch: 4 [0/60000 (0%)]\tLoss: 0.321689\n",
      "Train Epoch: 4 [6400/60000 (11%)]\tLoss: 0.502510\n",
      "Train Epoch: 4 [12800/60000 (21%)]\tLoss: 0.366591\n",
      "Train Epoch: 4 [19200/60000 (32%)]\tLoss: 0.336669\n",
      "Train Epoch: 4 [25600/60000 (43%)]\tLoss: 0.274195\n",
      "Train Epoch: 4 [32000/60000 (53%)]\tLoss: 0.428146\n",
      "Train Epoch: 4 [38400/60000 (64%)]\tLoss: 0.317079\n",
      "Train Epoch: 4 [44800/60000 (75%)]\tLoss: 0.413543\n",
      "Train Epoch: 4 [51200/60000 (85%)]\tLoss: 0.287934\n",
      "Train Epoch: 4 [57600/60000 (96%)]\tLoss: 0.463246\n",
      "\n",
      "Test set: Average loss: 0.3691, Accuracy: 8641/10000 (86.41%)\n",
      "\n",
      "Train Epoch: 5 [0/60000 (0%)]\tLoss: 0.404237\n",
      "Train Epoch: 5 [6400/60000 (11%)]\tLoss: 0.505126\n",
      "Train Epoch: 5 [12800/60000 (21%)]\tLoss: 0.564657\n",
      "Train Epoch: 5 [19200/60000 (32%)]\tLoss: 0.288871\n",
      "Train Epoch: 5 [25600/60000 (43%)]\tLoss: 0.451292\n",
      "Train Epoch: 5 [32000/60000 (53%)]\tLoss: 0.426964\n",
      "Train Epoch: 5 [38400/60000 (64%)]\tLoss: 0.198628\n",
      "Train Epoch: 5 [44800/60000 (75%)]\tLoss: 0.340129\n",
      "Train Epoch: 5 [51200/60000 (85%)]\tLoss: 0.323479\n",
      "Train Epoch: 5 [57600/60000 (96%)]\tLoss: 0.448681\n",
      "\n",
      "Test set: Average loss: 0.3572, Accuracy: 8692/10000 (86.92%)\n",
      "\n"
     ]
    }
   ],
   "source": [
    "for epoch in range(1, epochs + 1):\n",
    "    train(epoch)\n",
    "    test(epoch)"
   ]
  },
  {
   "cell_type": "code",
   "execution_count": null,
   "metadata": {
    "collapsed": true
   },
   "outputs": [],
   "source": []
  }
 ],
 "metadata": {
  "kernelspec": {
   "display_name": "Python 3",
   "language": "python",
   "name": "python3"
  },
  "language_info": {
   "codemirror_mode": {
    "name": "ipython",
    "version": 3
   },
   "file_extension": ".py",
   "mimetype": "text/x-python",
   "name": "python",
   "nbconvert_exporter": "python",
   "pygments_lexer": "ipython3",
   "version": "3.5.2"
  }
 },
 "nbformat": 4,
 "nbformat_minor": 0
}
