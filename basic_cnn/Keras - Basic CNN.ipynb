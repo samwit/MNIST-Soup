{
 "cells": [
  {
   "cell_type": "markdown",
   "metadata": {},
   "source": [
    "# Keras - Basic CNN example"
   ]
  },
  {
   "cell_type": "code",
   "execution_count": 1,
   "metadata": {
    "collapsed": false
   },
   "outputs": [
    {
     "name": "stderr",
     "output_type": "stream",
     "text": [
      "Using TensorFlow backend.\n"
     ]
    }
   ],
   "source": [
    "%matplotlib inline\n",
    "from sutils import *\n",
    "import os, json\n",
    "from glob import glob\n",
    "\n",
    "import keras\n",
    "from keras.datasets import mnist\n",
    "from keras.models import Sequential, Model\n",
    "from keras.layers import Dense, Dropout, Flatten,Input\n",
    "from keras.layers import Conv2D, MaxPooling2D\n",
    "from keras import backend as K"
   ]
  },
  {
   "cell_type": "code",
   "execution_count": 2,
   "metadata": {
    "collapsed": true
   },
   "outputs": [],
   "source": [
    "#limit_gpu_mem()"
   ]
  },
  {
   "cell_type": "code",
   "execution_count": 3,
   "metadata": {
    "collapsed": true
   },
   "outputs": [],
   "source": [
    "batch_size = 128\n",
    "num_classes = 10\n",
    "epochs = 10\n",
    "\n",
    "# input image dimensions\n",
    "img_rows, img_cols = 28, 28"
   ]
  },
  {
   "cell_type": "code",
   "execution_count": 4,
   "metadata": {
    "collapsed": true
   },
   "outputs": [],
   "source": [
    "# the data, shuffled and split between train and test sets\n",
    "(x_train, y_train), (x_test, y_test) = mnist.load_data()"
   ]
  },
  {
   "cell_type": "code",
   "execution_count": 5,
   "metadata": {
    "collapsed": true
   },
   "outputs": [],
   "source": [
    "if K.image_data_format() == 'channels_first':\n",
    "    x_train = x_train.reshape(x_train.shape[0], 1, img_rows, img_cols)\n",
    "    x_test = x_test.reshape(x_test.shape[0], 1, img_rows, img_cols)\n",
    "    input_shape = (1, img_rows, img_cols)\n",
    "else:\n",
    "    x_train = x_train.reshape(x_train.shape[0], img_rows, img_cols, 1)\n",
    "    x_test = x_test.reshape(x_test.shape[0], img_rows, img_cols, 1)\n",
    "    input_shape = (img_rows, img_cols, 1)"
   ]
  },
  {
   "cell_type": "code",
   "execution_count": 6,
   "metadata": {
    "collapsed": false
   },
   "outputs": [
    {
     "data": {
      "text/plain": [
       "(28, 28, 1)"
      ]
     },
     "execution_count": 6,
     "metadata": {},
     "output_type": "execute_result"
    }
   ],
   "source": [
    "input_shape"
   ]
  },
  {
   "cell_type": "code",
   "execution_count": 7,
   "metadata": {
    "collapsed": false
   },
   "outputs": [
    {
     "name": "stdout",
     "output_type": "stream",
     "text": [
      "x_train shape: (60000, 28, 28, 1)\n",
      "60000 train samples\n",
      "10000 test samples\n"
     ]
    }
   ],
   "source": [
    "x_train = x_train.astype('float32')\n",
    "x_test = x_test.astype('float32')\n",
    "x_train /= 255\n",
    "x_test /= 255\n",
    "print('x_train shape:', x_train.shape)\n",
    "print(x_train.shape[0], 'train samples')\n",
    "print(x_test.shape[0], 'test samples')"
   ]
  },
  {
   "cell_type": "code",
   "execution_count": 8,
   "metadata": {
    "collapsed": true
   },
   "outputs": [],
   "source": [
    "# convert class vectors to binary class matrices\n",
    "y_train = keras.utils.to_categorical(y_train, num_classes)\n",
    "y_test = keras.utils.to_categorical(y_test, num_classes)"
   ]
  },
  {
   "cell_type": "code",
   "execution_count": 15,
   "metadata": {
    "collapsed": true
   },
   "outputs": [],
   "source": [
    "Inp=Input(shape=input_shape)\n",
    "x = Conv2D(32, kernel_size=(3, 3), activation='relu',name = 'Conv_01')(Inp)\n",
    "x = Conv2D(64, (3, 3), activation='relu',name = 'Conv_02')(x)\n",
    "x = MaxPooling2D(pool_size=(2, 2),name = 'MaxPool_01')(x)\n",
    "x = Dropout(0.25,name = 'Dropout_01')(x)\n",
    "x = Flatten(name = 'Flatten_01')(x)\n",
    "x = Dense(128, activation='relu',name = 'Dense_01')(x)\n",
    "x = Dropout(0.5,name = 'Dropout_02')(x)\n",
    "output = Dense(num_classes, activation='softmax',name = 'Dense_02')(x)"
   ]
  },
  {
   "cell_type": "code",
   "execution_count": 16,
   "metadata": {
    "collapsed": true
   },
   "outputs": [],
   "source": [
    "model = Model(Inp,output)"
   ]
  },
  {
   "cell_type": "markdown",
   "metadata": {},
   "source": [
    "## Calculating the number of parameters for Convolution Networks\n",
    "\n",
    "Formula is (filters x (kernel_height x kernel_width) x inputs) 1 x filters = parameters\n",
    "\n",
    "Conv_01 = 32 Filters , 3x3 Kernel = (32 x (3x3) x 1 input) + 1bias x filters = 320 parameters  \n",
    "Conv_02 = 64 Filters , 3x3 Kernel = (64 x (3x3) x 32 inputs) + 1bias x filters = 18496 parameters \n",
    "\n",
    "Dense_1 = (9216 inputs * 128 units)+ 128 bias = 1,179,776  \n",
    "Dense_2 = (128 inputs * 10 units) +10 bias = 1290\n"
   ]
  },
  {
   "cell_type": "code",
   "execution_count": 17,
   "metadata": {
    "collapsed": false
   },
   "outputs": [
    {
     "name": "stdout",
     "output_type": "stream",
     "text": [
      "_________________________________________________________________\n",
      "Layer (type)                 Output Shape              Param #   \n",
      "=================================================================\n",
      "input_3 (InputLayer)         (None, 28, 28, 1)         0         \n",
      "_________________________________________________________________\n",
      "Conv_01 (Conv2D)             (None, 26, 26, 32)        320       \n",
      "_________________________________________________________________\n",
      "Conv_02 (Conv2D)             (None, 24, 24, 64)        18496     \n",
      "_________________________________________________________________\n",
      "MaxPool_01 (MaxPooling2D)    (None, 12, 12, 64)        0         \n",
      "_________________________________________________________________\n",
      "Dropout_01 (Dropout)         (None, 12, 12, 64)        0         \n",
      "_________________________________________________________________\n",
      "Flatten_01 (Flatten)         (None, 9216)              0         \n",
      "_________________________________________________________________\n",
      "Dense_01 (Dense)             (None, 128)               1179776   \n",
      "_________________________________________________________________\n",
      "Dropout_02 (Dropout)         (None, 128)               0         \n",
      "_________________________________________________________________\n",
      "Dense_02 (Dense)             (None, 10)                1290      \n",
      "=================================================================\n",
      "Total params: 1,199,882\n",
      "Trainable params: 1,199,882\n",
      "Non-trainable params: 0\n",
      "_________________________________________________________________\n"
     ]
    }
   ],
   "source": [
    "model.summary()"
   ]
  },
  {
   "cell_type": "code",
   "execution_count": 14,
   "metadata": {
    "collapsed": true
   },
   "outputs": [],
   "source": [
    "model.compile(loss=keras.losses.categorical_crossentropy,\n",
    "              optimizer=keras.optimizers.Adadelta(),\n",
    "              metrics=['accuracy'])"
   ]
  },
  {
   "cell_type": "code",
   "execution_count": 16,
   "metadata": {
    "collapsed": false
   },
   "outputs": [
    {
     "name": "stdout",
     "output_type": "stream",
     "text": [
      "Train on 60000 samples, validate on 10000 samples\n",
      "Epoch 1/12\n",
      "60000/60000 [==============================] - 3s - loss: 0.0387 - acc: 0.9886 - val_loss: 0.0287 - val_acc: 0.9912\n",
      "Epoch 2/12\n",
      "60000/60000 [==============================] - 3s - loss: 0.0365 - acc: 0.9893 - val_loss: 0.0324 - val_acc: 0.9895\n",
      "Epoch 3/12\n",
      "60000/60000 [==============================] - 3s - loss: 0.0346 - acc: 0.9896 - val_loss: 0.0295 - val_acc: 0.9912\n",
      "Epoch 4/12\n",
      "60000/60000 [==============================] - 3s - loss: 0.0351 - acc: 0.9891 - val_loss: 0.0287 - val_acc: 0.9910\n",
      "Epoch 5/12\n",
      "60000/60000 [==============================] - 3s - loss: 0.0348 - acc: 0.9898 - val_loss: 0.0274 - val_acc: 0.9917\n",
      "Epoch 6/12\n",
      "60000/60000 [==============================] - 3s - loss: 0.0341 - acc: 0.9898 - val_loss: 0.0301 - val_acc: 0.9905\n",
      "Epoch 7/12\n",
      "60000/60000 [==============================] - 3s - loss: 0.0319 - acc: 0.9905 - val_loss: 0.0288 - val_acc: 0.9908\n",
      "Epoch 8/12\n",
      "60000/60000 [==============================] - 3s - loss: 0.0333 - acc: 0.9902 - val_loss: 0.0294 - val_acc: 0.9908\n",
      "Epoch 9/12\n",
      "60000/60000 [==============================] - 3s - loss: 0.0318 - acc: 0.9907 - val_loss: 0.0280 - val_acc: 0.9908\n",
      "Epoch 10/12\n",
      "60000/60000 [==============================] - 3s - loss: 0.0299 - acc: 0.9913 - val_loss: 0.0285 - val_acc: 0.9913\n",
      "Epoch 11/12\n",
      "60000/60000 [==============================] - 3s - loss: 0.0292 - acc: 0.9910 - val_loss: 0.0298 - val_acc: 0.9910\n",
      "Epoch 12/12\n",
      "60000/60000 [==============================] - 3s - loss: 0.0313 - acc: 0.9907 - val_loss: 0.0304 - val_acc: 0.9908\n"
     ]
    }
   ],
   "source": [
    "hist = model.fit(x_train, y_train,\n",
    "          batch_size=batch_size,\n",
    "          epochs=epochs,\n",
    "          verbose=1,\n",
    "          callbacks = None,\n",
    "          validation_data=(x_test, y_test))"
   ]
  },
  {
   "cell_type": "code",
   "execution_count": 17,
   "metadata": {
    "collapsed": false
   },
   "outputs": [
    {
     "data": {
      "image/png": "[encoded data removed]",
      "text/plain": [
       "<matplotlib.figure.Figure at 0x7f5e10755860>"
      ]
     },
     "metadata": {},
     "output_type": "display_data"
    }
   ],
   "source": [
    "plot_train(hist)"
   ]
  },
  {
   "cell_type": "code",
   "execution_count": 18,
   "metadata": {
    "collapsed": true
   },
   "outputs": [],
   "source": [
    "model.save_weights('basic_cnn.h5')"
   ]
  },
  {
   "cell_type": "code",
   "execution_count": null,
   "metadata": {
    "collapsed": true
   },
   "outputs": [],
   "source": [
    "model.save('cnn_model')"
   ]
  },
  {
   "cell_type": "code",
   "execution_count": null,
   "metadata": {
    "collapsed": true
   },
   "outputs": [],
   "source": []
  },
  {
   "cell_type": "markdown",
   "metadata": {
    "collapsed": true
   },
   "source": [
    "## Using the Functional API"
   ]
  },
  {
   "cell_type": "code",
   "execution_count": 19,
   "metadata": {
    "collapsed": true
   },
   "outputs": [],
   "source": [
    "Inp=Input(shape=input_shape)\n",
    "x = Conv2D(32, kernel_size=(3, 3), activation='relu',name = 'Conv_01')(Inp)\n",
    "x = Conv2D(64, (3, 3), activation='relu',name = 'Conv_02')(x)\n",
    "x = MaxPooling2D(pool_size=(2, 2),name = 'MaxPool_01')(x)\n",
    "x = Conv2D(128, (3, 3), activation='relu',name = 'Conv_03')(x)\n",
    "x = Conv2D(256, (3, 3), activation='relu',name = 'Conv_04')(x)\n",
    "x = MaxPooling2D(pool_size=(2, 2),name = 'MaxPool_02')(x)\n",
    "x = Dropout(0.25,name = 'Dropout_01')(x)\n",
    "x = Flatten(name = 'Flatten_01')(x)\n",
    "x = Dense(128, activation='relu',name = 'Dense_01')(x)\n",
    "x = Dropout(0.5,name = 'Dropout_02')(x)\n",
    "output = Dense(num_classes, activation='softmax',name = 'Dense_02')(x)"
   ]
  },
  {
   "cell_type": "code",
   "execution_count": 20,
   "metadata": {
    "collapsed": true
   },
   "outputs": [],
   "source": [
    "model = Model(Inp,output)"
   ]
  },
  {
   "cell_type": "markdown",
   "metadata": {},
   "source": [
    "## Calculating the number of parameters for Convolution Networks\n",
    "\n",
    "Formula is (filters x (kernel_height x kernel_width) x inputs) 1 x filters = parameters\n",
    "\n",
    "Conv_01 = 32 Filters , 3x3 Kernel = (32 x (3x3) x 1 input) + 1bias x filters = 320 parameters  \n",
    "Conv_02 = 64 Filters , 3x3 Kernel = (64 x (3x3) x 32 inputs) + 1bias x filters = 18496 parameters   \n",
    "Conv_03 = 128 Filters , 3x3 Kernel = (128 x (3x3) x 64 input) + 1bias x filters = 73856 parameters    \n",
    "Conv_04 = 256 Filters , 3x3 Kernel = (256 x (3x3) x 128 inputs) + 1bias x filters = 295168 parameters \n",
    "\n",
    "Dense_1 = (4096 inputs * 128 units)+ 128 bias = 524,416  \n",
    "Dense_2 = (128 inputs * 10 units) +10 bias = 1290"
   ]
  },
  {
   "cell_type": "code",
   "execution_count": 22,
   "metadata": {
    "collapsed": false
   },
   "outputs": [
    {
     "name": "stdout",
     "output_type": "stream",
     "text": [
      "_________________________________________________________________\n",
      "Layer (type)                 Output Shape              Param #   \n",
      "=================================================================\n",
      "input_5 (InputLayer)         (None, 28, 28, 1)         0         \n",
      "_________________________________________________________________\n",
      "Conv_01 (Conv2D)             (None, 26, 26, 32)        320       \n",
      "_________________________________________________________________\n",
      "Conv_02 (Conv2D)             (None, 24, 24, 64)        18496     \n",
      "_________________________________________________________________\n",
      "MaxPool_01 (MaxPooling2D)    (None, 12, 12, 64)        0         \n",
      "_________________________________________________________________\n",
      "Conv_03 (Conv2D)             (None, 10, 10, 128)       73856     \n",
      "_________________________________________________________________\n",
      "Conv_04 (Conv2D)             (None, 8, 8, 256)         295168    \n",
      "_________________________________________________________________\n",
      "MaxPool_02 (MaxPooling2D)    (None, 4, 4, 256)         0         \n",
      "_________________________________________________________________\n",
      "Dropout_01 (Dropout)         (None, 4, 4, 256)         0         \n",
      "_________________________________________________________________\n",
      "Flatten_01 (Flatten)         (None, 4096)              0         \n",
      "_________________________________________________________________\n",
      "Dense_01 (Dense)             (None, 128)               524416    \n",
      "_________________________________________________________________\n",
      "Dropout_02 (Dropout)         (None, 128)               0         \n",
      "_________________________________________________________________\n",
      "Dense_02 (Dense)             (None, 10)                1290      \n",
      "=================================================================\n",
      "Total params: 913,546\n",
      "Trainable params: 913,546\n",
      "Non-trainable params: 0\n",
      "_________________________________________________________________\n"
     ]
    }
   ],
   "source": [
    "model.summary()"
   ]
  },
  {
   "cell_type": "code",
   "execution_count": null,
   "metadata": {
    "collapsed": true
   },
   "outputs": [],
   "source": []
  }
 ],
 "metadata": {
  "kernelspec": {
   "display_name": "Python 3",
   "language": "python",
   "name": "python3"
  },
  "language_info": {
   "codemirror_mode": {
    "name": "ipython",
    "version": 3
   },
   "file_extension": ".py",
   "mimetype": "text/x-python",
   "name": "python",
   "nbconvert_exporter": "python",
   "pygments_lexer": "ipython3",
   "version": "3.5.2"
  }
 },
 "nbformat": 4,
 "nbformat_minor": 2
}
